{
 "cells": [
  {
   "cell_type": "markdown",
   "metadata": {},
   "source": [
    "# Run learners in job scripts"
   ]
  },
  {
   "cell_type": "markdown",
   "metadata": {},
   "source": [
    "## Define the learners\n",
    "\n",
    "We need the following variables:\n",
    "* `learners` a list of learners\n",
    "* `combos` a list of dicts of parameters that describe each learner\n",
    "* `fnames` a list of filenames of each learner"
   ]
  },
  {
   "cell_type": "code",
   "execution_count": null,
   "metadata": {},
   "outputs": [],
   "source": [
    "%%writefile _learners.py\n",
    "\n",
    "import adaptive\n",
    "from functools import partial\n",
    "\n",
    "\n",
    "def h(x, offset=0):\n",
    "    import numpy as np\n",
    "    import random\n",
    "\n",
    "    # Burn some CPU time just because\n",
    "    for _ in range(10):\n",
    "        np.linalg.eig(np.random.rand(1000, 1000))\n",
    "\n",
    "    a = 0.01\n",
    "    return x + a ** 2 / (a ** 2 + (x - offset) ** 2)\n",
    "\n",
    "\n",
    "offset = [i / 100 for i in range(100)]\n",
    "\n",
    "combos = adaptive.utils.named_product(offset=offset)\n",
    "\n",
    "learners = []\n",
    "fnames = []\n",
    "\n",
    "folder = \"data/\"\n",
    "\n",
    "for i, combo in enumerate(combos):\n",
    "    f = partial(h, offset=combo[\"offset\"])\n",
    "    learner = adaptive.Learner1D(f, bounds=(-1, 1))\n",
    "    fnames.append(f\"{folder}{combo}\")\n",
    "    learners.append(learner)\n",
    "\n",
    "learner = adaptive.BalancingLearner(learners)"
   ]
  },
  {
   "cell_type": "code",
   "execution_count": null,
   "metadata": {},
   "outputs": [],
   "source": [
    "# Execute the previous code block and plot the learners\n",
    "from _learners import *\n",
    "import adaptive\n",
    "adaptive.notebook_extension()\n",
    "learner.load(fnames)\n",
    "learner.plot()"
   ]
  },
  {
   "cell_type": "markdown",
   "metadata": {},
   "source": [
    "## The Python script that is being run in the job"
   ]
  },
  {
   "cell_type": "code",
   "execution_count": null,
   "metadata": {},
   "outputs": [],
   "source": [
    "# Make sure to use the headnode's in the next cell\n",
    "from adaptive_scheduler import server_support\n",
    "url = server_support.get_allowed_url()\n",
    "print(url)"
   ]
  },
  {
   "cell_type": "code",
   "execution_count": null,
   "metadata": {},
   "outputs": [],
   "source": [
    "%%writefile run_learner.py\n",
    "\n",
    "import adaptive\n",
    "from mpi4py.futures import MPIPoolExecutor\n",
    "\n",
    "from adaptive_scheduler import client_support\n",
    "\n",
    "url = \"tcp://10.75.0.5:37371\"\n",
    "\n",
    "if __name__ == \"__main__\":\n",
    "    learner, fname = client_support.get_learner(url)\n",
    "    learner.load(fname)\n",
    "    ex = MPIPoolExecutor()\n",
    "    runner = adaptive.Runner(\n",
    "        learner,\n",
    "        executor=ex,\n",
    "        goal=None,\n",
    "        shutdown_executor=True,\n",
    "        retries=10,\n",
    "        raise_if_retries_exceeded=False,\n",
    "    )\n",
    "    runner.start_periodic_saving(dict(fname=fname), interval=600)\n",
    "    runner.ioloop.run_until_complete(runner.task)  # wait until runner goal reached\n",
    "    client_support.is_done(url, fname)"
   ]
  },
  {
   "cell_type": "markdown",
   "metadata": {},
   "source": [
    "# Import the files that were created"
   ]
  },
  {
   "cell_type": "code",
   "execution_count": null,
   "metadata": {},
   "outputs": [],
   "source": [
    "import asyncio\n",
    "from importlib import reload\n",
    "\n",
    "from adaptive_scheduler import server_support\n",
    "from pprint import pprint\n",
    "from tinydb import TinyDB\n",
    "\n",
    "import _learners, run_learner\n",
    "\n",
    "reload(_learners)\n",
    "reload(run_learner)\n",
    "\n",
    "db_fname = 'running.tinydb'"
   ]
  },
  {
   "cell_type": "code",
   "execution_count": null,
   "metadata": {},
   "outputs": [],
   "source": [
    "# Create a new database\n",
    "server_support.create_empty_db(db_fname, _learners.fnames, _learners.combos)"
   ]
  },
  {
   "cell_type": "markdown",
   "metadata": {},
   "source": [
    "## Check the running learners\n",
    "All the onces that are `None` are still `PENDING` or are not scheduled."
   ]
  },
  {
   "cell_type": "code",
   "execution_count": null,
   "metadata": {
    "scrolled": false
   },
   "outputs": [],
   "source": [
    "with TinyDB(db_fname) as db:\n",
    "    pprint(db.all()[:10])"
   ]
  },
  {
   "cell_type": "markdown",
   "metadata": {},
   "source": [
    "## Start the job scripts"
   ]
  },
  {
   "cell_type": "code",
   "execution_count": null,
   "metadata": {},
   "outputs": [],
   "source": [
    "# Get some unique names for the jobs\n",
    "from run_learner import url\n",
    "job_names = [f\"test-job-{i}\" for i in range(len(_learners.learners))]\n",
    "\n",
    "ioloop = asyncio.get_event_loop()\n",
    "\n",
    "database_task = ioloop.create_task(\n",
    "    server_support.manage_database(url, db_fname)\n",
    ")\n",
    "\n",
    "job_task = ioloop.create_task(\n",
    "    server_support.manage_jobs(job_names, db_fname, ioloop, cores=50*8, interval=60)\n",
    ")"
   ]
  },
  {
   "cell_type": "code",
   "execution_count": null,
   "metadata": {},
   "outputs": [],
   "source": [
    "job_task.print_stack()"
   ]
  },
  {
   "cell_type": "code",
   "execution_count": null,
   "metadata": {},
   "outputs": [],
   "source": [
    "database_task.print_stack()"
   ]
  },
  {
   "cell_type": "code",
   "execution_count": null,
   "metadata": {},
   "outputs": [],
   "source": [
    "# Run this to STOP managing the database and jobs\n",
    "# job_task.cancel(), database_task.cancel()"
   ]
  }
 ],
 "metadata": {
  "kernelspec": {
   "display_name": "Python [conda env:py37_min]",
   "language": "python",
   "name": "conda-env-py37_min-py"
  },
  "language_info": {
   "codemirror_mode": {
    "name": "ipython",
    "version": 3
   },
   "file_extension": ".py",
   "mimetype": "text/x-python",
   "name": "python",
   "nbconvert_exporter": "python",
   "pygments_lexer": "ipython3",
   "version": "3.7.3"
  }
 },
 "nbformat": 4,
 "nbformat_minor": 1
}
